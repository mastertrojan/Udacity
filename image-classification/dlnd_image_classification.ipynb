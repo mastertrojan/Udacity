{
 "cells": [
  {
   "cell_type": "markdown",
   "metadata": {
    "collapsed": true
   },
   "source": [
    "# Image Classification\n",
    "In this project, you'll classify images from the [CIFAR-10 dataset](https://www.cs.toronto.edu/~kriz/cifar.html).  The dataset consists of airplanes, dogs, cats, and other objects. You'll preprocess the images, then train a convolutional neural network on all the samples. The images need to be normalized and the labels need to be one-hot encoded.  You'll get to apply what you learned and build a convolutional, max pooling, dropout, and fully connected layers.  At the end, you'll get to see your neural network's predictions on the sample images.\n",
    "## Get the Data\n",
    "Run the following cell to download the [CIFAR-10 dataset for python](https://www.cs.toronto.edu/~kriz/cifar-10-python.tar.gz)."
   ]
  },
  {
   "cell_type": "code",
   "execution_count": 4,
   "metadata": {
    "collapsed": false
   },
   "outputs": [
    {
     "name": "stdout",
     "output_type": "stream",
     "text": [
      "All files found!\n"
     ]
    }
   ],
   "source": [
    "\"\"\"\n",
    "DON'T MODIFY ANYTHING IN THIS CELL THAT IS BELOW THIS LINE\n",
    "\"\"\"\n",
    "from urllib.request import urlretrieve\n",
    "from os.path import isfile, isdir\n",
    "from tqdm import tqdm\n",
    "import problem_unittests as tests\n",
    "import tarfile\n",
    "\n",
    "cifar10_dataset_folder_path = 'cifar-10-batches-py'\n",
    "\n",
    "class DLProgress(tqdm):\n",
    "    last_block = 0\n",
    "\n",
    "    def hook(self, block_num=1, block_size=1, total_size=None):\n",
    "        self.total = total_size\n",
    "        self.update((block_num - self.last_block) * block_size)\n",
    "        self.last_block = block_num\n",
    "\n",
    "if not isfile('cifar-10-python.tar.gz'):\n",
    "    with DLProgress(unit='B', unit_scale=True, miniters=1, desc='CIFAR-10 Dataset') as pbar:\n",
    "        urlretrieve(\n",
    "            'https://www.cs.toronto.edu/~kriz/cifar-10-python.tar.gz',\n",
    "            'cifar-10-python.tar.gz',\n",
    "            pbar.hook)\n",
    "\n",
    "if not isdir(cifar10_dataset_folder_path):\n",
    "    with tarfile.open('cifar-10-python.tar.gz') as tar:\n",
    "        tar.extractall()\n",
    "        tar.close()\n",
    "\n",
    "\n",
    "tests.test_folder_path(cifar10_dataset_folder_path)"
   ]
  },
  {
   "cell_type": "markdown",
   "metadata": {},
   "source": [
    "## Explore the Data\n",
    "The dataset is broken into batches to prevent your machine from running out of memory.  The CIFAR-10 dataset consists of 5 batches, named `data_batch_1`, `data_batch_2`, etc.. Each batch contains the labels and images that are one of the following:\n",
    "* airplane\n",
    "* automobile\n",
    "* bird\n",
    "* cat\n",
    "* deer\n",
    "* dog\n",
    "* frog\n",
    "* horse\n",
    "* ship\n",
    "* truck\n",
    "\n",
    "Understanding a dataset is part of making predictions on the data.  Play around with the code cell below by changing the `batch_id` and `sample_id`. The `batch_id` is the id for a batch (1-5). The `sample_id` is the id for a image and label pair in the batch.\n",
    "\n",
    "Ask yourself \"What are all possible labels?\", \"What is the range of values for the image data?\", \"Are the labels in order or random?\".  Answers to questions like these will help you preprocess the data and end up with better predictions."
   ]
  },
  {
   "cell_type": "code",
   "execution_count": 5,
   "metadata": {
    "collapsed": false
   },
   "outputs": [
    {
     "name": "stdout",
     "output_type": "stream",
     "text": [
      "\n",
      "Stats of batch 1:\n",
      "Samples: 10000\n",
      "Label Counts: {0: 1005, 1: 974, 2: 1032, 3: 1016, 4: 999, 5: 937, 6: 1030, 7: 1001, 8: 1025, 9: 981}\n",
      "First 20 Labels: [6, 9, 9, 4, 1, 1, 2, 7, 8, 3, 4, 7, 7, 2, 9, 9, 9, 3, 2, 6]\n",
      "\n",
      "Example of Image 5:\n",
      "Image - Min Value: 0 Max Value: 252\n",
      "Image - Shape: (32, 32, 3)\n",
      "Label - Label Id: 1 Name: automobile\n"
     ]
    },
    {
     "data": {
      "image/png": "[encoded data removed]",
      "text/plain": [
       "<matplotlib.figure.Figure at 0x106eabfd0>"
      ]
     },
     "metadata": {
      "image/png": {
       "height": 250,
       "width": 253
      }
     },
     "output_type": "display_data"
    }
   ],
   "source": [
    "%matplotlib inline\n",
    "%config InlineBackend.figure_format = 'retina'\n",
    "\n",
    "import helper\n",
    "import numpy as np\n",
    "\n",
    "# Explore the dataset\n",
    "batch_id = 1\n",
    "sample_id = 5\n",
    "helper.display_stats(cifar10_dataset_folder_path, batch_id, sample_id)"
   ]
  },
  {
   "cell_type": "markdown",
   "metadata": {},
   "source": [
    "## Implement Preprocess Functions\n",
    "### Normalize\n",
    "In the cell below, implement the `normalize` function to take in image data, `x`, and return it as a normalized Numpy array. The values should be in the range of 0 to 1, inclusive.  The return object should be the same shape as `x`."
   ]
  },
  {
   "cell_type": "code",
   "execution_count": 47,
   "metadata": {
    "collapsed": false
   },
   "outputs": [
    {
     "name": "stdout",
     "output_type": "stream",
     "text": [
      "Tests Passed\n"
     ]
    }
   ],
   "source": [
    "def normalize(x):\n",
    "    from sklearn.preprocessing import normalize\n",
    "    \"\"\"\n",
    "    Normalize a list of sample image data in the range of 0 to 1\n",
    "    : x: List of image data.  The image shape is (32, 32, 3)\n",
    "    : return: Numpy array of normalize data\n",
    "    \"\"\"\n",
    "    a = 0\n",
    "    b = 1\n",
    "    min = np.amin(x)\n",
    "    max = np.amax(x)\n",
    "    \n",
    "    return np.array(a + ((x - min)*(b - a)/(max - min)))\n",
    "\n",
    "\"\"\"\n",
    "DON'T MODIFY ANYTHING IN THIS CELL THAT IS BELOW THIS LINE\n",
    "\"\"\"\n",
    "tests.test_normalize(normalize)\n"
   ]
  },
  {
   "cell_type": "markdown",
   "metadata": {},
   "source": [
    "### One-hot encode\n",
    "Just like the previous code cell, you'll be implementing a function for preprocessing.  This time, you'll implement the `one_hot_encode` function. The input, `x`, are a list of labels.  Implement the function to return the list of labels as One-Hot encoded Numpy array.  The possible values for labels are 0 to 9. The one-hot encoding function should return the same encoding for each value between each call to `one_hot_encode`.  Make sure to save the map of encodings outside the function.\n",
    "\n",
    "Hint: Don't reinvent the wheel."
   ]
  },
  {
   "cell_type": "code",
   "execution_count": 48,
   "metadata": {
    "collapsed": false
   },
   "outputs": [
    {
     "name": "stdout",
     "output_type": "stream",
     "text": [
      "Tests Passed\n"
     ]
    }
   ],
   "source": [
    "from sklearn.preprocessing import LabelBinarizer\n",
    "encoder = LabelBinarizer()\n",
    "encoder.fit(range(0,10))\n",
    "\n",
    "def one_hot_encode(x):\n",
    "    \n",
    "    \"\"\"\n",
    "    One hot encode a list of sample labels. Return a one-hot encoded vector for each label.\n",
    "    : x: List of sample Labels\n",
    "    : return: Numpy array of one-hot encoded labels\n",
    "    \"\"\"\n",
    "    \n",
    "    return np.array(encoder.transform(x))\n",
    "\n",
    "\n",
    "\"\"\"\n",
    "DON'T MODIFY ANYTHING IN THIS CELL THAT IS BELOW THIS LINE\n",
    "\"\"\"\n",
    "tests.test_one_hot_encode(one_hot_encode)"
   ]
  },
  {
   "cell_type": "markdown",
   "metadata": {},
   "source": [
    "### Randomize Data\n",
    "As you saw from exploring the data above, the order of the samples are randomized.  It doesn't hurt to randomize it again, but you don't need to for this dataset."
   ]
  },
  {
   "cell_type": "markdown",
   "metadata": {},
   "source": [
    "## Preprocess all the data and save it\n",
    "Running the code cell below will preprocess all the CIFAR-10 data and save it to file. The code below also uses 10% of the training data for validation."
   ]
  },
  {
   "cell_type": "code",
   "execution_count": 8,
   "metadata": {
    "collapsed": false
   },
   "outputs": [],
   "source": [
    "\"\"\"\n",
    "DON'T MODIFY ANYTHING IN THIS CELL\n",
    "\"\"\"\n",
    "# Preprocess Training, Validation, and Testing Data\n",
    "helper.preprocess_and_save_data(cifar10_dataset_folder_path, normalize, one_hot_encode)"
   ]
  },
  {
   "cell_type": "markdown",
   "metadata": {},
   "source": [
    "# Check Point\n",
    "This is your first checkpoint.  If you ever decide to come back to this notebook or have to restart the notebook, you can start from here.  The preprocessed data has been saved to disk."
   ]
  },
  {
   "cell_type": "code",
   "execution_count": 9,
   "metadata": {
    "collapsed": true
   },
   "outputs": [],
   "source": [
    "\"\"\"\n",
    "DON'T MODIFY ANYTHING IN THIS CELL\n",
    "\"\"\"\n",
    "import pickle\n",
    "import problem_unittests as tests\n",
    "import helper\n",
    "\n",
    "# Load the Preprocessed Validation data\n",
    "valid_features, valid_labels = pickle.load(open('preprocess_validation.p', mode='rb'))"
   ]
  },
  {
   "cell_type": "markdown",
   "metadata": {},
   "source": [
    "## Build the network\n",
    "For the neural network, you'll build each layer into a function.  Most of the code you've seen has been outside of functions. To test your code more thoroughly, we require that you put each layer in a function.  This allows us to give you better feedback and test for simple mistakes using our unittests before you submit your project.\n",
    "\n",
    ">**Note:** If you're finding it hard to dedicate enough time for this course each week, we've provided a small shortcut to this part of the project. In the next couple of problems, you'll have the option to use classes from the [TensorFlow Layers](https://www.tensorflow.org/api_docs/python/tf/layers) or [TensorFlow Layers (contrib)](https://www.tensorflow.org/api_guides/python/contrib.layers) packages to build each layer, except the layers you build in the \"Convolutional and Max Pooling Layer\" section.  TF Layers is similar to Keras's and TFLearn's abstraction to layers, so it's easy to pickup.\n",
    "\n",
    ">However, if you would like to get the most out of this course, try to solve all the problems _without_ using anything from the TF Layers packages. You **can** still use classes from other packages that happen to have the same name as ones you find in TF Layers! For example, instead of using the TF Layers version of the `conv2d` class, [tf.layers.conv2d](https://www.tensorflow.org/api_docs/python/tf/layers/conv2d), you would want to use the TF Neural Network version of `conv2d`, [tf.nn.conv2d](https://www.tensorflow.org/api_docs/python/tf/nn/conv2d). \n",
    "\n",
    "Let's begin!\n",
    "\n",
    "### Input\n",
    "The neural network needs to read the image data, one-hot encoded labels, and dropout keep probability. Implement the following functions\n",
    "* Implement `neural_net_image_input`\n",
    " * Return a [TF Placeholder](https://www.tensorflow.org/api_docs/python/tf/placeholder)\n",
    " * Set the shape using `image_shape` with batch size set to `None`.\n",
    " * Name the TensorFlow placeholder \"x\" using the TensorFlow `name` parameter in the [TF Placeholder](https://www.tensorflow.org/api_docs/python/tf/placeholder).\n",
    "* Implement `neural_net_label_input`\n",
    " * Return a [TF Placeholder](https://www.tensorflow.org/api_docs/python/tf/placeholder)\n",
    " * Set the shape using `n_classes` with batch size set to `None`.\n",
    " * Name the TensorFlow placeholder \"y\" using the TensorFlow `name` parameter in the [TF Placeholder](https://www.tensorflow.org/api_docs/python/tf/placeholder).\n",
    "* Implement `neural_net_keep_prob_input`\n",
    " * Return a [TF Placeholder](https://www.tensorflow.org/api_docs/python/tf/placeholder) for dropout keep probability.\n",
    " * Name the TensorFlow placeholder \"keep_prob\" using the TensorFlow `name` parameter in the [TF Placeholder](https://www.tensorflow.org/api_docs/python/tf/placeholder).\n",
    "\n",
    "These names will be used at the end of the project to load your saved model.\n",
    "\n",
    "Note: `None` for shapes in TensorFlow allow for a dynamic size."
   ]
  },
  {
   "cell_type": "code",
   "execution_count": 10,
   "metadata": {
    "collapsed": false
   },
   "outputs": [
    {
     "name": "stdout",
     "output_type": "stream",
     "text": [
      "Image Input Tests Passed.\n",
      "Label Input Tests Passed.\n",
      "Keep Prob Tests Passed.\n"
     ]
    }
   ],
   "source": [
    "import tensorflow as tf\n",
    "\n",
    "def neural_net_image_input(image_shape):\n",
    "    \"\"\"\n",
    "    Return a Tensor for a batch of image input\n",
    "    : image_shape: Shape of the images\n",
    "    : return: Tensor for image input.\n",
    "    \"\"\"\n",
    "    # TODO: Implement Function\n",
    "    x = tf.placeholder(tf.float32, [None, image_shape[0], image_shape[1], image_shape[2]], name='x')\n",
    "    #tf.placeholder(image_shape)\n",
    "    return x\n",
    "\n",
    "\n",
    "def neural_net_label_input(n_classes):\n",
    "    \"\"\"\n",
    "    Return a Tensor for a batch of label input\n",
    "    : n_classes: Number of classes\n",
    "    : return: Tensor for label input.\n",
    "    \"\"\"\n",
    "    # TODO: Implement Function\n",
    "    #print(n_classes)\n",
    "    y = tf.placeholder(tf.float32, [None, n_classes], name='y')\n",
    "    return y\n",
    "\n",
    "\n",
    "def neural_net_keep_prob_input():\n",
    "    \"\"\"\n",
    "    Return a Tensor for keep probability\n",
    "    : return: Tensor for keep probability.\n",
    "    \"\"\"\n",
    "    keep_prob = tf.placeholder(tf.float32, name='keep_prob')\n",
    "    # TODO: Implement Function\n",
    "    return keep_prob\n",
    "\n",
    "\n",
    "\"\"\"\n",
    "DON'T MODIFY ANYTHING IN THIS CELL THAT IS BELOW THIS LINE\n",
    "\"\"\"\n",
    "tf.reset_default_graph()\n",
    "tests.test_nn_image_inputs(neural_net_image_input)\n",
    "tests.test_nn_label_inputs(neural_net_label_input)\n",
    "tests.test_nn_keep_prob_inputs(neural_net_keep_prob_input)"
   ]
  },
  {
   "cell_type": "markdown",
   "metadata": {},
   "source": [
    "### Convolution and Max Pooling Layer\n",
    "Convolution layers have a lot of success with images. For this code cell, you should implement the function `conv2d_maxpool` to apply convolution then max pooling:\n",
    "* Create the weight and bias using `conv_ksize`, `conv_num_outputs` and the shape of `x_tensor`.\n",
    "* Apply a convolution to `x_tensor` using weight and `conv_strides`.\n",
    " * We recommend you use same padding, but you're welcome to use any padding.\n",
    "* Add bias\n",
    "* Add a nonlinear activation to the convolution.\n",
    "* Apply Max Pooling using `pool_ksize` and `pool_strides`.\n",
    " * We recommend you use same padding, but you're welcome to use any padding.\n",
    "\n",
    "**Note:** You **can't** use [TensorFlow Layers](https://www.tensorflow.org/api_docs/python/tf/layers) or [TensorFlow Layers (contrib)](https://www.tensorflow.org/api_guides/python/contrib.layers) for **this** layer, but you can still use TensorFlow's [Neural Network](https://www.tensorflow.org/api_docs/python/tf/nn) package. You may still use the shortcut option for all the **other** layers."
   ]
  },
  {
   "cell_type": "code",
   "execution_count": 108,
   "metadata": {
    "collapsed": false
   },
   "outputs": [
    {
     "name": "stdout",
     "output_type": "stream",
     "text": [
      "Tests Passed\n"
     ]
    }
   ],
   "source": [
    "def conv2d_maxpool(x_tensor, conv_num_outputs, conv_ksize, conv_strides, pool_ksize, pool_strides):\n",
    "    \"\"\"\n",
    "    Apply convolution then max pooling to x_tensor\n",
    "    :param x_tensor: TensorFlow Tensor\n",
    "    :param conv_num_outputs: Number of outputs for the convolutional layer\n",
    "    :param conv_ksize: kernal size 2-D Tuple for the convolutional layer\n",
    "    :param conv_strides: Stride 2-D Tuple for convolution\n",
    "    :param pool_ksize: kernal size 2-D Tuple for pool\n",
    "    :param pool_strides: Stride 2-D Tuple for pool\n",
    "    : return: A tensor that represents convolution and max pooling of x_tensor\n",
    "    \"\"\"\n",
    "    #conv_ksize, conv_num_outputs, shape x_tensor\n",
    "#     print('tensor: ', x_tensor.get_shape()[3])\n",
    "#     print('conv_num_outputs', conv_num_outputs)\n",
    "#     print('conv filter:', conv_ksize)\n",
    "#     print('strides: ', conv_strides)\n",
    "#     print('pool filter:', pool_ksize)\n",
    "#     print('pool strides:', pool_strides)\n",
    "\n",
    "    layers = x_tensor.get_shape().as_list()[3]\n",
    "    \n",
    "    weight = tf.Variable(tf.truncated_normal([conv_ksize[0], conv_ksize[1], layers, conv_num_outputs]))\n",
    "    \n",
    "    bias = bias = tf.Variable(tf.zeros(conv_num_outputs))\n",
    "    \n",
    "    conv_layer = tf.nn.conv2d(x_tensor, weight, strides=[1, conv_strides[0], conv_strides[1], 1], padding='SAME')\n",
    "    conv_layer = tf.nn.bias_add(conv_layer, bias)\n",
    "    conv_layer = tf.nn.relu(conv_layer)\n",
    "# Apply Max Pooling\n",
    "    conv_layer = tf.nn.max_pool(\n",
    "        conv_layer,\n",
    "        ksize=[1, pool_ksize[0], pool_ksize[1], 1],\n",
    "        strides=[1, pool_strides[0], pool_strides[1], 1],\n",
    "        padding='SAME')\n",
    "\n",
    "\n",
    "    # kernels are filters\n",
    "    #tf.nn.conv2d(input, F_W, strides, padding) + F_b\n",
    "    return conv_layer \n",
    "\n",
    "\n",
    "\"\"\"\n",
    "DON'T MODIFY ANYTHING IN THIS CELL THAT IS BELOW THIS LINE\n",
    "\"\"\"\n",
    "tests.test_con_pool(conv2d_maxpool)"
   ]
  },
  {
   "cell_type": "markdown",
   "metadata": {},
   "source": [
    "### Flatten Layer\n",
    "Implement the `flatten` function to change the dimension of `x_tensor` from a 4-D tensor to a 2-D tensor.  The output should be the shape (*Batch Size*, *Flattened Image Size*). Shortcut option: you can use classes from the [TensorFlow Layers](https://www.tensorflow.org/api_docs/python/tf/layers) or [TensorFlow Layers (contrib)](https://www.tensorflow.org/api_guides/python/contrib.layers) packages for this layer. For more of a challenge, only use other TensorFlow packages."
   ]
  },
  {
   "cell_type": "code",
   "execution_count": 109,
   "metadata": {
    "collapsed": false
   },
   "outputs": [
    {
     "name": "stdout",
     "output_type": "stream",
     "text": [
      "Tests Passed\n"
     ]
    }
   ],
   "source": [
    "def flatten(x_tensor):\n",
    "    \"\"\"\n",
    "    Flatten x_tensor to (Batch Size, Flattened Image Size)\n",
    "    : x_tensor: A tensor of size (Batch Size, ...), where ... are the image dimensions.\n",
    "    : return: A tensor of size (Batch Size, Flattened Image Size).\n",
    "    \"\"\"\n",
    "    #print(x_tensor)\n",
    "    # TODO: Implement Function\n",
    "    #x_tensor = tf.Variable()\n",
    "    return tf.contrib.layers.flatten(x_tensor)\n",
    "\n",
    "\n",
    "\"\"\"\n",
    "DON'T MODIFY ANYTHING IN THIS CELL THAT IS BELOW THIS LINE\n",
    "\"\"\"\n",
    "tests.test_flatten(flatten)"
   ]
  },
  {
   "cell_type": "markdown",
   "metadata": {},
   "source": [
    "### Fully-Connected Layer\n",
    "Implement the `fully_conn` function to apply a fully connected layer to `x_tensor` with the shape (*Batch Size*, *num_outputs*). Shortcut option: you can use classes from the [TensorFlow Layers](https://www.tensorflow.org/api_docs/python/tf/layers) or [TensorFlow Layers (contrib)](https://www.tensorflow.org/api_guides/python/contrib.layers) packages for this layer. For more of a challenge, only use other TensorFlow packages."
   ]
  },
  {
   "cell_type": "code",
   "execution_count": 110,
   "metadata": {
    "collapsed": false
   },
   "outputs": [
    {
     "name": "stdout",
     "output_type": "stream",
     "text": [
      "Tests Passed\n"
     ]
    }
   ],
   "source": [
    "def fully_conn(x_tensor, num_outputs):\n",
    "    \"\"\"\n",
    "    Apply a fully connected layer to x_tensor using weight and bias\n",
    "    : x_tensor: A 2-D tensor where the first dimension is batch size.\n",
    "    : num_outputs: The number of output that the new tensor should be.\n",
    "    : return: A 2-D tensor where the second dimension is num_outputs.\n",
    "    \"\"\"\n",
    "    # TODO: Implement Function\n",
    "    fully_conn = tf.contrib.layers.fully_connected(x_tensor, num_outputs)\n",
    "    fully_conn = tf.nn.relu(fully_conn)\n",
    "    return fully_conn\n",
    "\n",
    "\n",
    "\"\"\"\n",
    "DON'T MODIFY ANYTHING IN THIS CELL THAT IS BELOW THIS LINE\n",
    "\"\"\"\n",
    "tests.test_fully_conn(fully_conn)"
   ]
  },
  {
   "cell_type": "markdown",
   "metadata": {},
   "source": [
    "### Output Layer\n",
    "Implement the `output` function to apply a fully connected layer to `x_tensor` with the shape (*Batch Size*, *num_outputs*). Shortcut option: you can use classes from the [TensorFlow Layers](https://www.tensorflow.org/api_docs/python/tf/layers) or [TensorFlow Layers (contrib)](https://www.tensorflow.org/api_guides/python/contrib.layers) packages for this layer. For more of a challenge, only use other TensorFlow packages.\n",
    "\n",
    "**Note:** Activation, softmax, or cross entropy should **not** be applied to this."
   ]
  },
  {
   "cell_type": "code",
   "execution_count": 123,
   "metadata": {
    "collapsed": false
   },
   "outputs": [
    {
     "name": "stdout",
     "output_type": "stream",
     "text": [
      "Tests Passed\n"
     ]
    }
   ],
   "source": [
    "def output(x_tensor, num_outputs):\n",
    "    \"\"\"\n",
    "    Apply a output layer to x_tensor using weight and bias\n",
    "    : x_tensor: A 2-D tensor where the first dimension is batch size.\n",
    "    : num_outputs: The number of output that the new tensor should be.\n",
    "    : return: A 2-D tensor where the second dimension is num_outputs.\n",
    "    \"\"\"\n",
    "    # TODO: Implement Function\n",
    "    tensor = tf.contrib.layers.fully_connected(x_tensor, num_outputs)\n",
    "    #print(tensor)\n",
    "    return tensor\n",
    "\n",
    "\n",
    "\"\"\"\n",
    "DON'T MODIFY ANYTHING IN THIS CELL THAT IS BELOW THIS LINE\n",
    "\"\"\"\n",
    "tests.test_output(output)"
   ]
  },
  {
   "cell_type": "markdown",
   "metadata": {},
   "source": [
    "### Create Convolutional Model\n",
    "Implement the function `conv_net` to create a convolutional neural network model. The function takes in a batch of images, `x`, and outputs logits.  Use the layers you created above to create this model:\n",
    "\n",
    "* Apply 1, 2, or 3 Convolution and Max Pool layers\n",
    "* Apply a Flatten Layer\n",
    "* Apply 1, 2, or 3 Fully Connected Layers\n",
    "* Apply an Output Layer\n",
    "* Return the output\n",
    "* Apply [TensorFlow's Dropout](https://www.tensorflow.org/api_docs/python/tf/nn/dropout) to one or more layers in the model using `keep_prob`. "
   ]
  },
  {
   "cell_type": "code",
   "execution_count": null,
   "metadata": {
    "collapsed": false
   },
   "outputs": [],
   "source": [
    "def conv_net(x, keep_prob):\n",
    "    \"\"\"\n",
    "    Create a convolutional neural network model\n",
    "    : x: Placeholder tensor that holds image data.\n",
    "    : keep_prob: Placeholder tensor that hold dropout keep probability.\n",
    "    : return: Tensor that represents logits\n",
    "    \"\"\"\n",
    "    # TODO: Apply 1, 2, or 3 Convolution and Max Pool layers\n",
    "    #    Play around with different number of outputs, kernel size and stride\n",
    "    # Function Definition from Above:\n",
    "    #    conv2d_maxpool(x_tensor, conv_num_outputs, conv_ksize, conv_strides, pool_ksize, pool_strides)\n",
    "    \n",
    "    conv1 = conv2d_maxpool(x, 8, [2,2], [2,2], [2,2], [2,2])\n",
    "    conv2 = conv2d_maxpool(conv1, 16, [2,2], [2,2], [2,2], [2,2])\n",
    "    conv3 = conv2d_maxpool(conv2, 32, [2,2], [2,2], [2,2], [2,2])\n",
    "    \n",
    "\n",
    "\n",
    "    # TODO: Apply a Flatten Layer\n",
    "    # Function Definition from Above:\n",
    "    #   flatten(x_tensor)\n",
    "    flat = flatten(conv3)\n",
    "    \n",
    "    dropout = tf.nn.dropout(flat, keep_prob, noise_shape=None, seed=None, name=None)\n",
    "\n",
    "    # TODO: Apply 1, 2, or 3 Fully Connected Layers\n",
    "    #    Play around with different number of outputs\n",
    "    # Function Definition from Above:\n",
    "    #   fully_conn(x_tensor, num_outputs)\n",
    "    full_1 = fully_conn(dropout, 16)\n",
    "    full_2 = fully_conn(full_1, 8)\n",
    "    \n",
    "    # TODO: Apply an Output Layer\n",
    "    #    Set this to the number of classes\n",
    "    # Function Definition from Above:\n",
    "    #   output(x_tensor, num_outputs)\n",
    "    out = output(full_2, 10)\n",
    "    \n",
    "    # TODO: return output\n",
    "    return out\n",
    "\n",
    "\n",
    "\"\"\"\n",
    "DON'T MODIFY ANYTHING IN THIS CELL THAT IS BELOW THIS LINE\n",
    "\"\"\"\n",
    "\n",
    "##############################\n",
    "## Build the Neural Network ##\n",
    "##############################\n",
    "\n",
    "# Remove previous weights, bias, inputs, etc..\n",
    "tf.reset_default_graph()\n",
    "\n",
    "# Inputs\n",
    "x = neural_net_image_input((32, 32, 3))\n",
    "y = neural_net_label_input(10)\n",
    "keep_prob = neural_net_keep_prob_input()\n",
    "\n",
    "# Model\n",
    "logits = conv_net(x, keep_prob)\n",
    "\n",
    "# Name logits Tensor, so that is can be loaded from disk after training\n",
    "logits = tf.identity(logits, name='logits')\n",
    "\n",
    "# Loss and Optimizer\n",
    "cost = tf.reduce_mean(tf.nn.softmax_cross_entropy_with_logits(logits=logits, labels=y))\n",
    "optimizer = tf.train.AdamOptimizer().minimize(cost)\n",
    "\n",
    "# Accuracy\n",
    "correct_pred = tf.equal(tf.argmax(logits, 1), tf.argmax(y, 1))\n",
    "accuracy = tf.reduce_mean(tf.cast(correct_pred, tf.float32), name='accuracy')\n",
    "\n",
    "tests.test_conv_net(conv_net)"
   ]
  },
  {
   "cell_type": "markdown",
   "metadata": {},
   "source": [
    "## Train the Neural Network\n",
    "### Single Optimization\n",
    "Implement the function `train_neural_network` to do a single optimization.  The optimization should use `optimizer` to optimize in `session` with a `feed_dict` of the following:\n",
    "* `x` for image input\n",
    "* `y` for labels\n",
    "* `keep_prob` for keep probability for dropout\n",
    "\n",
    "This function will be called for each batch, so `tf.global_variables_initializer()` has already been called.\n",
    "\n",
    "Note: Nothing needs to be returned. This function is only optimizing the neural network."
   ]
  },
  {
   "cell_type": "code",
   "execution_count": null,
   "metadata": {
    "collapsed": false
   },
   "outputs": [],
   "source": [
    "def train_neural_network(session, optimizer, keep_probability, feature_batch, label_batch):\n",
    "    \"\"\"\n",
    "    Optimize the session on a batch of images and labels\n",
    "    : session: Current TensorFlow session\n",
    "    : optimizer: TensorFlow optimizer function\n",
    "    : keep_probability: keep probability\n",
    "    : feature_batch: Batch of Numpy image data\n",
    "    : label_batch: Batch of Numpy label data\n",
    "    \"\"\"\n",
    "    \n",
    "#     features = tf.placeholder(tf.float32, [None, feature_batch.shape[1], feature_batch.shape[2], feature_batch.shape[3]])\n",
    "#     labels = tf.placeholder(tf.float32, [None, label_batch.shape[1]])\n",
    "#     train_feed_dict = {features: feature_batch, labels: label_batch, keep_prob: keep_probability}\n",
    "    \n",
    "    session.run(optimizer, feed_dict={x: feature_batch, y: label_batch, keep_prob: keep_probability})\n",
    "    # TODO: Implement Function\n",
    "\n",
    "    pass\n",
    "\n",
    "\n",
    "\"\"\"\n",
    "DON'T MODIFY ANYTHING IN THIS CELL THAT IS BELOW THIS LINE\n",
    "\"\"\"\n",
    "tests.test_train_nn(train_neural_network)"
   ]
  },
  {
   "cell_type": "markdown",
   "metadata": {},
   "source": [
    "### Show Stats\n",
    "Implement the function `print_stats` to print loss and validation accuracy.  Use the global variables `valid_features` and `valid_labels` to calculate validation accuracy.  Use a keep probability of `1.0` to calculate the loss and validation accuracy."
   ]
  },
  {
   "cell_type": "code",
   "execution_count": null,
   "metadata": {
    "collapsed": false
   },
   "outputs": [],
   "source": [
    "def print_stats(session, feature_batch, label_batch, cost, accuracy):\n",
    "    \"\"\"\n",
    "    Print information about loss and validation accuracy\n",
    "    : session: Current TensorFlow session\n",
    "    : feature_batch: Batch of Numpy image data\n",
    "    : label_batch: Batch of Numpy label data\n",
    "    : cost: TensorFlow cost function\n",
    "    : accuracy: TensorFlow accuracy function\n",
    "    \"\"\"\n",
    "    #print(valid_features, valid_labes)\n",
    "    # TODO: Implement Function\n",
    "    loss = session.run(cost, feed_dict = \n",
    "                   {x: feature_batch,y: label_batch, keep_prob: 1.0})\n",
    "    acc = session.run(accuracy,feed_dict = \n",
    "                  {x: valid_features, y: valid_labels, keep_prob: 1.0})\n",
    "\n",
    "    print(\"Accuracy: \", acc, \" Loss: \", loss)\n",
    "    pass"
   ]
  },
  {
   "cell_type": "markdown",
   "metadata": {},
   "source": [
    "### Hyperparameters\n",
    "Tune the following parameters:\n",
    "* Set `epochs` to the number of iterations until the network stops learning or start overfitting\n",
    "* Set `batch_size` to the highest number that your machine has memory for.  Most people set them to common sizes of memory:\n",
    " * 64\n",
    " * 128\n",
    " * 256\n",
    " * ...\n",
    "* Set `keep_probability` to the probability of keeping a node using dropout"
   ]
  },
  {
   "cell_type": "code",
   "execution_count": 229,
   "metadata": {
    "collapsed": true
   },
   "outputs": [],
   "source": [
    "# TODO: Tune Parameters\n",
    "epochs = 100\n",
    "batch_size = 256\n",
    "keep_probability = 1"
   ]
  },
  {
   "cell_type": "markdown",
   "metadata": {},
   "source": [
    "### Train on a Single CIFAR-10 Batch\n",
    "Instead of training the neural network on all the CIFAR-10 batches of data, let's use a single batch. This should save time while you iterate on the model to get a better accuracy.  Once the final validation accuracy is 50% or greater, run the model on all the data in the next section."
   ]
  },
  {
   "cell_type": "code",
   "execution_count": 231,
   "metadata": {
    "collapsed": false
   },
   "outputs": [
    {
     "name": "stdout",
     "output_type": "stream",
     "text": [
      "Checking the Training on a Single Batch...\n",
      "Epoch  1, CIFAR-10 Batch 1:  Accuracy:  0.136  Loss:  2.93833\n",
      "Epoch  2, CIFAR-10 Batch 1:  Accuracy:  0.1304  Loss:  2.38528\n",
      "Epoch  3, CIFAR-10 Batch 1:  Accuracy:  0.1208  Loss:  2.33936\n",
      "Epoch  4, CIFAR-10 Batch 1:  Accuracy:  0.1298  Loss:  2.33593\n",
      "Epoch  5, CIFAR-10 Batch 1:  Accuracy:  0.1388  Loss:  2.32614\n",
      "Epoch  6, CIFAR-10 Batch 1:  Accuracy:  0.1554  Loss:  2.31508\n",
      "Epoch  7, CIFAR-10 Batch 1:  Accuracy:  0.1646  Loss:  2.28655\n",
      "Epoch  8, CIFAR-10 Batch 1:  Accuracy:  0.1702  Loss:  2.26212\n",
      "Epoch  9, CIFAR-10 Batch 1:  Accuracy:  0.172  Loss:  2.22001\n",
      "Epoch 10, CIFAR-10 Batch 1:  Accuracy:  0.1698  Loss:  2.18851\n",
      "Epoch 11, CIFAR-10 Batch 1:  Accuracy:  0.1786  Loss:  2.16073\n",
      "Epoch 12, CIFAR-10 Batch 1:  Accuracy:  0.1842  Loss:  2.14034\n",
      "Epoch 13, CIFAR-10 Batch 1:  Accuracy:  0.1906  Loss:  2.10524\n",
      "Epoch 14, CIFAR-10 Batch 1:  Accuracy:  0.199  Loss:  2.07606\n",
      "Epoch 15, CIFAR-10 Batch 1:  Accuracy:  0.2028  Loss:  2.06166\n",
      "Epoch 16, CIFAR-10 Batch 1:  Accuracy:  0.206  Loss:  2.05144\n",
      "Epoch 17, CIFAR-10 Batch 1:  Accuracy:  0.2122  Loss:  2.03096\n",
      "Epoch 18, CIFAR-10 Batch 1:  Accuracy:  0.2178  Loss:  2.01313\n",
      "Epoch 19, CIFAR-10 Batch 1:  Accuracy:  0.2184  Loss:  2.00746\n",
      "Epoch 20, CIFAR-10 Batch 1:  Accuracy:  0.2202  Loss:  1.98572\n",
      "Epoch 21, CIFAR-10 Batch 1:  Accuracy:  0.2256  Loss:  1.96489\n",
      "Epoch 22, CIFAR-10 Batch 1:  Accuracy:  0.2326  Loss:  1.93961\n",
      "Epoch 23, CIFAR-10 Batch 1:  Accuracy:  0.235  Loss:  1.91908\n",
      "Epoch 24, CIFAR-10 Batch 1:  Accuracy:  0.2404  Loss:  1.89793\n",
      "Epoch 25, CIFAR-10 Batch 1:  Accuracy:  0.243  Loss:  1.88728\n",
      "Epoch 26, CIFAR-10 Batch 1:  Accuracy:  0.2474  Loss:  1.87425\n",
      "Epoch 27, CIFAR-10 Batch 1:  Accuracy:  0.2486  Loss:  1.86878\n",
      "Epoch 28, CIFAR-10 Batch 1:  Accuracy:  0.2506  Loss:  1.86958\n",
      "Epoch 29, CIFAR-10 Batch 1:  Accuracy:  0.2526  Loss:  1.86621\n",
      "Epoch 30, CIFAR-10 Batch 1:  Accuracy:  0.2558  Loss:  1.86583\n",
      "Epoch 31, CIFAR-10 Batch 1:  Accuracy:  0.2552  Loss:  1.85377\n",
      "Epoch 32, CIFAR-10 Batch 1:  Accuracy:  0.2578  Loss:  1.85871\n",
      "Epoch 33, CIFAR-10 Batch 1:  Accuracy:  0.2596  Loss:  1.8482\n",
      "Epoch 34, CIFAR-10 Batch 1:  Accuracy:  0.257  Loss:  1.84313\n",
      "Epoch 35, CIFAR-10 Batch 1:  Accuracy:  0.2628  Loss:  1.83859\n",
      "Epoch 36, CIFAR-10 Batch 1:  Accuracy:  0.265  Loss:  1.84295\n",
      "Epoch 37, CIFAR-10 Batch 1:  Accuracy:  0.264  Loss:  1.83038\n",
      "Epoch 38, CIFAR-10 Batch 1:  Accuracy:  0.263  Loss:  1.82458\n",
      "Epoch 39, CIFAR-10 Batch 1:  Accuracy:  0.2666  Loss:  1.8278\n",
      "Epoch 40, CIFAR-10 Batch 1:  Accuracy:  0.2662  Loss:  1.82127\n",
      "Epoch 41, CIFAR-10 Batch 1:  Accuracy:  0.269  Loss:  1.8204\n",
      "Epoch 42, CIFAR-10 Batch 1:  Accuracy:  0.2674  Loss:  1.81334\n",
      "Epoch 43, CIFAR-10 Batch 1:  Accuracy:  0.2678  Loss:  1.81754\n",
      "Epoch 44, CIFAR-10 Batch 1:  Accuracy:  0.269  Loss:  1.80299\n",
      "Epoch 45, CIFAR-10 Batch 1:  Accuracy:  0.2718  Loss:  1.79863\n",
      "Epoch 46, CIFAR-10 Batch 1:  Accuracy:  0.2708  Loss:  1.80055\n",
      "Epoch 47, CIFAR-10 Batch 1:  Accuracy:  0.272  Loss:  1.7909\n",
      "Epoch 48, CIFAR-10 Batch 1:  Accuracy:  0.2728  Loss:  1.79127\n",
      "Epoch 49, CIFAR-10 Batch 1:  Accuracy:  0.2728  Loss:  1.78091\n",
      "Epoch 50, CIFAR-10 Batch 1:  Accuracy:  0.2718  Loss:  1.7837\n",
      "Epoch 51, CIFAR-10 Batch 1:  Accuracy:  0.273  Loss:  1.7778\n",
      "Epoch 52, CIFAR-10 Batch 1:  Accuracy:  0.272  Loss:  1.77807\n",
      "Epoch 53, CIFAR-10 Batch 1:  Accuracy:  0.274  Loss:  1.77206\n",
      "Epoch 54, CIFAR-10 Batch 1:  Accuracy:  0.2744  Loss:  1.76631\n",
      "Epoch 55, CIFAR-10 Batch 1:  Accuracy:  0.2762  Loss:  1.75381\n",
      "Epoch 56, CIFAR-10 Batch 1:  Accuracy:  0.2732  Loss:  1.75101\n",
      "Epoch 57, CIFAR-10 Batch 1:  Accuracy:  0.2768  Loss:  1.74416\n",
      "Epoch 58, CIFAR-10 Batch 1:  Accuracy:  0.2756  Loss:  1.74425\n",
      "Epoch 59, CIFAR-10 Batch 1:  Accuracy:  0.2754  Loss:  1.73285\n",
      "Epoch 60, CIFAR-10 Batch 1:  Accuracy:  0.2746  Loss:  1.73699\n",
      "Epoch 61, CIFAR-10 Batch 1:  Accuracy:  0.2756  Loss:  1.72648\n",
      "Epoch 62, CIFAR-10 Batch 1:  Accuracy:  0.273  Loss:  1.7309\n",
      "Epoch 63, CIFAR-10 Batch 1:  Accuracy:  0.2758  Loss:  1.71778\n",
      "Epoch 64, CIFAR-10 Batch 1:  Accuracy:  0.2768  Loss:  1.72131\n",
      "Epoch 65, CIFAR-10 Batch 1:  Accuracy:  0.276  Loss:  1.71103\n",
      "Epoch 66, CIFAR-10 Batch 1:  Accuracy:  0.2756  Loss:  1.70967\n",
      "Epoch 67, CIFAR-10 Batch 1:  Accuracy:  0.2772  Loss:  1.70727\n",
      "Epoch 68, CIFAR-10 Batch 1:  Accuracy:  0.278  Loss:  1.70014\n",
      "Epoch 69, CIFAR-10 Batch 1:  Accuracy:  0.2794  Loss:  1.69404\n",
      "Epoch 70, CIFAR-10 Batch 1:  Accuracy:  0.2806  Loss:  1.69437\n",
      "Epoch 71, CIFAR-10 Batch 1:  Accuracy:  0.2784  Loss:  1.68346\n",
      "Epoch 72, CIFAR-10 Batch 1:  Accuracy:  0.2804  Loss:  1.6772\n",
      "Epoch 73, CIFAR-10 Batch 1:  Accuracy:  0.2808  Loss:  1.66983\n",
      "Epoch 74, CIFAR-10 Batch 1:  Accuracy:  0.2816  Loss:  1.65328\n",
      "Epoch 75, CIFAR-10 Batch 1:  Accuracy:  0.2832  Loss:  1.65638\n",
      "Epoch 76, CIFAR-10 Batch 1:  Accuracy:  0.2838  Loss:  1.64359\n",
      "Epoch 77, CIFAR-10 Batch 1:  Accuracy:  0.2842  Loss:  1.64125\n",
      "Epoch 78, CIFAR-10 Batch 1:  Accuracy:  0.2842  Loss:  1.63782\n",
      "Epoch 79, CIFAR-10 Batch 1:  Accuracy:  0.2836  Loss:  1.63266\n",
      "Epoch 80, CIFAR-10 Batch 1:  Accuracy:  0.2852  Loss:  1.63063\n",
      "Epoch 81, CIFAR-10 Batch 1:  Accuracy:  0.287  Loss:  1.62518\n",
      "Epoch 82, CIFAR-10 Batch 1:  Accuracy:  0.2868  Loss:  1.62832\n",
      "Epoch 83, CIFAR-10 Batch 1:  Accuracy:  0.2878  Loss:  1.62077\n",
      "Epoch 84, CIFAR-10 Batch 1:  Accuracy:  0.2868  Loss:  1.61956\n",
      "Epoch 85, CIFAR-10 Batch 1:  Accuracy:  0.2864  Loss:  1.61695\n",
      "Epoch 86, CIFAR-10 Batch 1:  Accuracy:  0.2876  Loss:  1.62029\n",
      "Epoch 87, CIFAR-10 Batch 1:  Accuracy:  0.2866  Loss:  1.61838\n",
      "Epoch 88, CIFAR-10 Batch 1:  Accuracy:  0.289  Loss:  1.61687\n",
      "Epoch 89, CIFAR-10 Batch 1:  Accuracy:  0.2886  Loss:  1.61229\n",
      "Epoch 90, CIFAR-10 Batch 1:  Accuracy:  0.2886  Loss:  1.61077\n",
      "Epoch 91, CIFAR-10 Batch 1:  Accuracy:  0.2904  Loss:  1.6092\n",
      "Epoch 92, CIFAR-10 Batch 1:  Accuracy:  0.29  Loss:  1.60949\n",
      "Epoch 93, CIFAR-10 Batch 1:  Accuracy:  0.2894  Loss:  1.6029\n",
      "Epoch 94, CIFAR-10 Batch 1:  Accuracy:  0.2902  Loss:  1.60184\n",
      "Epoch 95, CIFAR-10 Batch 1:  Accuracy:  0.2928  Loss:  1.59783\n",
      "Epoch 96, CIFAR-10 Batch 1:  Accuracy:  0.2914  Loss:  1.59286\n",
      "Epoch 97, CIFAR-10 Batch 1:  Accuracy:  0.291  Loss:  1.58847\n",
      "Epoch 98, CIFAR-10 Batch 1:  Accuracy:  0.2908  Loss:  1.58869\n",
      "Epoch 99, CIFAR-10 Batch 1:  Accuracy:  0.2906  Loss:  1.58025\n",
      "Epoch 100, CIFAR-10 Batch 1:  Accuracy:  0.2928  Loss:  1.57877\n"
     ]
    }
   ],
   "source": [
    "\"\"\"\n",
    "DON'T MODIFY ANYTHING IN THIS CELL\n",
    "\"\"\"\n",
    "print('Checking the Training on a Single Batch...')\n",
    "with tf.Session() as sess:\n",
    "    # Initializing the variables\n",
    "    sess.run(tf.global_variables_initializer())\n",
    "    \n",
    "    # Training cycle\n",
    "    for epoch in range(epochs):\n",
    "        batch_i = 1\n",
    "        for batch_features, batch_labels in helper.load_preprocess_training_batch(batch_i, batch_size):\n",
    "            train_neural_network(sess, optimizer, keep_probability, batch_features, batch_labels)\n",
    "        print('Epoch {:>2}, CIFAR-10 Batch {}:  '.format(epoch + 1, batch_i), end='')\n",
    "        print_stats(sess, batch_features, batch_labels, cost, accuracy)"
   ]
  },
  {
   "cell_type": "markdown",
   "metadata": {},
   "source": [
    "### Fully Train the Model\n",
    "Now that you got a good accuracy with a single CIFAR-10 batch, try it with all five batches."
   ]
  },
  {
   "cell_type": "code",
   "execution_count": 186,
   "metadata": {
    "collapsed": false
   },
   "outputs": [
    {
     "name": "stdout",
     "output_type": "stream",
     "text": [
      "Training...\n",
      "Epoch  1, CIFAR-10 Batch 1:  Accuracy:  0.0976  Loss:  2.30259\n",
      "Epoch  1, CIFAR-10 Batch 2:  Accuracy:  0.0978  Loss:  2.30259\n",
      "Epoch  1, CIFAR-10 Batch 3:  Accuracy:  0.0978  Loss:  2.30259\n",
      "Epoch  1, CIFAR-10 Batch 4:  Accuracy:  0.0978  Loss:  2.30259\n",
      "Epoch  1, CIFAR-10 Batch 5:  Accuracy:  0.0978  Loss:  2.30259\n",
      "Epoch  2, CIFAR-10 Batch 1:  Accuracy:  0.0978  Loss:  2.30259\n",
      "Epoch  2, CIFAR-10 Batch 2:  Accuracy:  0.0978  Loss:  2.30259\n",
      "Epoch  2, CIFAR-10 Batch 3:  Accuracy:  0.0978  Loss:  2.30259\n",
      "Epoch  2, CIFAR-10 Batch 4:  Accuracy:  0.0978  Loss:  2.30259\n",
      "Epoch  2, CIFAR-10 Batch 5:  Accuracy:  0.0978  Loss:  2.30259\n",
      "Epoch  3, CIFAR-10 Batch 1:  Accuracy:  0.0978  Loss:  2.30259\n",
      "Epoch  3, CIFAR-10 Batch 2:  Accuracy:  0.0978  Loss:  2.30259\n",
      "Epoch  3, CIFAR-10 Batch 3:  Accuracy:  0.0978  Loss:  2.30259\n",
      "Epoch  3, CIFAR-10 Batch 4:  Accuracy:  0.0978  Loss:  2.30259\n",
      "Epoch  3, CIFAR-10 Batch 5:  Accuracy:  0.0978  Loss:  2.30259\n",
      "Epoch  4, CIFAR-10 Batch 1:  Accuracy:  0.0978  Loss:  2.30259\n",
      "Epoch  4, CIFAR-10 Batch 2:  Accuracy:  0.0978  Loss:  2.30259\n",
      "Epoch  4, CIFAR-10 Batch 3:  Accuracy:  0.0978  Loss:  2.30259\n",
      "Epoch  4, CIFAR-10 Batch 4:  Accuracy:  0.0978  Loss:  2.30259\n",
      "Epoch  4, CIFAR-10 Batch 5:  Accuracy:  0.0978  Loss:  2.30259\n",
      "Epoch  5, CIFAR-10 Batch 1:  Accuracy:  0.0978  Loss:  2.30259\n",
      "Epoch  5, CIFAR-10 Batch 2:  Accuracy:  0.0978  Loss:  2.30259\n",
      "Epoch  5, CIFAR-10 Batch 3:  Accuracy:  0.0978  Loss:  2.30259\n",
      "Epoch  5, CIFAR-10 Batch 4:  Accuracy:  0.0978  Loss:  2.30259\n",
      "Epoch  5, CIFAR-10 Batch 5:  Accuracy:  0.0978  Loss:  2.30259\n",
      "Epoch  6, CIFAR-10 Batch 1:  Accuracy:  0.0978  Loss:  2.30259\n",
      "Epoch  6, CIFAR-10 Batch 2:  Accuracy:  0.0978  Loss:  2.30259\n",
      "Epoch  6, CIFAR-10 Batch 3:  Accuracy:  0.0978  Loss:  2.30259\n",
      "Epoch  6, CIFAR-10 Batch 4:  Accuracy:  0.0978  Loss:  2.30259\n",
      "Epoch  6, CIFAR-10 Batch 5:  Accuracy:  0.0978  Loss:  2.30259\n",
      "Epoch  7, CIFAR-10 Batch 1:  Accuracy:  0.0978  Loss:  2.30259\n",
      "Epoch  7, CIFAR-10 Batch 2:  Accuracy:  0.0978  Loss:  2.30259\n",
      "Epoch  7, CIFAR-10 Batch 3:  Accuracy:  0.0978  Loss:  2.30259\n",
      "Epoch  7, CIFAR-10 Batch 4:  Accuracy:  0.0978  Loss:  2.30259\n",
      "Epoch  7, CIFAR-10 Batch 5:  Accuracy:  0.0978  Loss:  2.30259\n",
      "Epoch  8, CIFAR-10 Batch 1:  Accuracy:  0.0978  Loss:  2.30259\n",
      "Epoch  8, CIFAR-10 Batch 2:  Accuracy:  0.0978  Loss:  2.30259\n",
      "Epoch  8, CIFAR-10 Batch 3:  Accuracy:  0.0978  Loss:  2.30259\n",
      "Epoch  8, CIFAR-10 Batch 4:  Accuracy:  0.0978  Loss:  2.30259\n",
      "Epoch  8, CIFAR-10 Batch 5:  Accuracy:  0.0978  Loss:  2.30259\n",
      "Epoch  9, CIFAR-10 Batch 1:  Accuracy:  0.0978  Loss:  2.30259\n",
      "Epoch  9, CIFAR-10 Batch 2:  Accuracy:  0.0978  Loss:  2.30259\n",
      "Epoch  9, CIFAR-10 Batch 3:  Accuracy:  0.0978  Loss:  2.30259\n",
      "Epoch  9, CIFAR-10 Batch 4:  Accuracy:  0.0978  Loss:  2.30259\n",
      "Epoch  9, CIFAR-10 Batch 5:  Accuracy:  0.0978  Loss:  2.30259\n",
      "Epoch 10, CIFAR-10 Batch 1:  Accuracy:  0.0978  Loss:  2.30259\n",
      "Epoch 10, CIFAR-10 Batch 2:  Accuracy:  0.0978  Loss:  2.30259\n",
      "Epoch 10, CIFAR-10 Batch 3:  Accuracy:  0.0978  Loss:  2.30259\n",
      "Epoch 10, CIFAR-10 Batch 4:  Accuracy:  0.0978  Loss:  2.30259\n",
      "Epoch 10, CIFAR-10 Batch 5:  Accuracy:  0.0978  Loss:  2.30259\n"
     ]
    }
   ],
   "source": [
    "\"\"\"\n",
    "DON'T MODIFY ANYTHING IN THIS CELL\n",
    "\"\"\"\n",
    "save_model_path = './image_classification'\n",
    "\n",
    "print('Training...')\n",
    "with tf.Session() as sess:\n",
    "    # Initializing the variables\n",
    "    sess.run(tf.global_variables_initializer())\n",
    "    \n",
    "    # Training cycle\n",
    "    for epoch in range(epochs):\n",
    "        # Loop over all batches\n",
    "        n_batches = 5\n",
    "        for batch_i in range(1, n_batches + 1):\n",
    "            for batch_features, batch_labels in helper.load_preprocess_training_batch(batch_i, batch_size):\n",
    "                train_neural_network(sess, optimizer, keep_probability, batch_features, batch_labels)\n",
    "            print('Epoch {:>2}, CIFAR-10 Batch {}:  '.format(epoch + 1, batch_i), end='')\n",
    "            print_stats(sess, batch_features, batch_labels, cost, accuracy)\n",
    "            \n",
    "    # Save Model\n",
    "    saver = tf.train.Saver()\n",
    "    save_path = saver.save(sess, save_model_path)"
   ]
  },
  {
   "cell_type": "markdown",
   "metadata": {},
   "source": [
    "# Checkpoint\n",
    "The model has been saved to disk.\n",
    "## Test Model\n",
    "Test your model against the test dataset.  This will be your final accuracy. You should have an accuracy greater than 50%. If you don't, keep tweaking the model architecture and parameters."
   ]
  },
  {
   "cell_type": "code",
   "execution_count": 175,
   "metadata": {
    "collapsed": false
   },
   "outputs": [
    {
     "name": "stdout",
     "output_type": "stream",
     "text": [
      "Testing Accuracy: 0.10011942675159236\n",
      "\n"
     ]
    },
    {
     "data": {
      "image/png": "[encoded data removed]",
      "text/plain": [
       "<matplotlib.figure.Figure at 0x119a2ab00>"
      ]
     },
     "metadata": {
      "image/png": {
       "height": 319,
       "width": 355
      }
     },
     "output_type": "display_data"
    }
   ],
   "source": [
    "\"\"\"\n",
    "DON'T MODIFY ANYTHING IN THIS CELL\n",
    "\"\"\"\n",
    "%matplotlib inline\n",
    "%config InlineBackend.figure_format = 'retina'\n",
    "\n",
    "import tensorflow as tf\n",
    "import pickle\n",
    "import helper\n",
    "import random\n",
    "\n",
    "# Set batch size if not already set\n",
    "try:\n",
    "    if batch_size:\n",
    "        pass\n",
    "except NameError:\n",
    "    batch_size = 64\n",
    "\n",
    "save_model_path = './image_classification'\n",
    "n_samples = 4\n",
    "top_n_predictions = 3\n",
    "\n",
    "def test_model():\n",
    "    \"\"\"\n",
    "    Test the saved model against the test dataset\n",
    "    \"\"\"\n",
    "\n",
    "    test_features, test_labels = pickle.load(open('preprocess_training.p', mode='rb'))\n",
    "    loaded_graph = tf.Graph()\n",
    "\n",
    "    with tf.Session(graph=loaded_graph) as sess:\n",
    "        # Load model\n",
    "        loader = tf.train.import_meta_graph(save_model_path + '.meta')\n",
    "        loader.restore(sess, save_model_path)\n",
    "\n",
    "        # Get Tensors from loaded model\n",
    "        loaded_x = loaded_graph.get_tensor_by_name('x:0')\n",
    "        loaded_y = loaded_graph.get_tensor_by_name('y:0')\n",
    "        loaded_keep_prob = loaded_graph.get_tensor_by_name('keep_prob:0')\n",
    "        loaded_logits = loaded_graph.get_tensor_by_name('logits:0')\n",
    "        loaded_acc = loaded_graph.get_tensor_by_name('accuracy:0')\n",
    "        \n",
    "        # Get accuracy in batches for memory limitations\n",
    "        test_batch_acc_total = 0\n",
    "        test_batch_count = 0\n",
    "        \n",
    "        for train_feature_batch, train_label_batch in helper.batch_features_labels(test_features, test_labels, batch_size):\n",
    "            test_batch_acc_total += sess.run(\n",
    "                loaded_acc,\n",
    "                feed_dict={loaded_x: train_feature_batch, loaded_y: train_label_batch, loaded_keep_prob: 1.0})\n",
    "            test_batch_count += 1\n",
    "\n",
    "        print('Testing Accuracy: {}\\n'.format(test_batch_acc_total/test_batch_count))\n",
    "\n",
    "        # Print Random Samples\n",
    "        random_test_features, random_test_labels = tuple(zip(*random.sample(list(zip(test_features, test_labels)), n_samples)))\n",
    "        random_test_predictions = sess.run(\n",
    "            tf.nn.top_k(tf.nn.softmax(loaded_logits), top_n_predictions),\n",
    "            feed_dict={loaded_x: random_test_features, loaded_y: random_test_labels, loaded_keep_prob: 1.0})\n",
    "        helper.display_image_predictions(random_test_features, random_test_labels, random_test_predictions)\n",
    "\n",
    "\n",
    "test_model()"
   ]
  },
  {
   "cell_type": "markdown",
   "metadata": {},
   "source": [
    "## Why 50-70% Accuracy?\n",
    "You might be wondering why you can't get an accuracy any higher. First things first, 50% isn't bad for a simple CNN.  Pure guessing would get you 10% accuracy. However, you might notice people are getting scores [well above 70%](http://rodrigob.github.io/are_we_there_yet/build/classification_datasets_results.html#43494641522d3130).  That's because we haven't taught you all there is to know about neural networks. We still need to cover a few more techniques.\n",
    "## Submitting This Project\n",
    "When submitting this project, make sure to run all the cells before saving the notebook.  Save the notebook file as \"dlnd_image_classification.ipynb\" and save it as a HTML file under \"File\" -> \"Download as\".  Include the \"helper.py\" and \"problem_unittests.py\" files in your submission."
   ]
  }
 ],
 "metadata": {
  "kernelspec": {
   "display_name": "Python 3",
   "language": "python",
   "name": "python3"
  },
  "language_info": {
   "codemirror_mode": {
    "name": "ipython",
    "version": 3
   },
   "file_extension": ".py",
   "mimetype": "text/x-python",
   "name": "python",
   "nbconvert_exporter": "python",
   "pygments_lexer": "ipython3",
   "version": "3.5.2"
  }
 },
 "nbformat": 4,
 "nbformat_minor": 0
}
